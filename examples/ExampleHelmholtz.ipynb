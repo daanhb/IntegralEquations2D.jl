{
 "cells": [
  {
   "cell_type": "code",
   "execution_count": null,
   "metadata": {},
   "outputs": [],
   "source": [
    "using SpecialFunctions, StaticArrays, BasisFunctions, FrameFun, IntervalSets, DomainSets, LinearAlgebra, DomainIntegrals\n",
    "using Plots\n",
    "using CompactTranslatesDict, CardinalBSplines\n",
    "using SimpleIntegralEquations\n"
   ]
  },
  {
   "cell_type": "markdown",
   "metadata": {},
   "source": [
    "## Parameters of the problem"
   ]
  },
  {
   "cell_type": "code",
   "execution_count": null,
   "metadata": {},
   "outputs": [],
   "source": [
    "T = Float64\n",
    "\n",
    "wavenumber = T(5)\n",
    "\n",
    "# Number of degrees of freedom in the basis\n",
    "N = 128\n",
    "# Number of collocation points (for collocation discretization)\n",
    "M = N\n",
    "\n",
    "# The degree of the B-splines we use to represent the solution\n",
    "splinedegree = 1"
   ]
  },
  {
   "cell_type": "code",
   "execution_count": null,
   "metadata": {},
   "outputs": [],
   "source": [
    "# We choose a kite-shaped domain but there are other options\n",
    "obstacle = Kite{T}(2)\n",
    "# obstacle = UnitCircle{T}()\n",
    "# obstacle = Ellipse(zero(T), zero(T), T(3)/10, T(5)/10)"
   ]
  },
  {
   "cell_type": "markdown",
   "metadata": {},
   "source": [
    "If the incoming wave is a plane wave, we can choose its direction and amplitude"
   ]
  },
  {
   "cell_type": "code",
   "execution_count": null,
   "metadata": {},
   "outputs": [],
   "source": [
    "# We choose an incoming wave\n",
    "direction = SVector(one(T), zero(T))\n",
    "amplitude = one(T)"
   ]
  },
  {
   "cell_type": "markdown",
   "metadata": {},
   "source": [
    "## Definition of the BEM matrices"
   ]
  },
  {
   "cell_type": "code",
   "execution_count": null,
   "metadata": {},
   "outputs": [],
   "source": [
    "param = parameterization(obstacle)\n",
    "paramdomain = domain(param)\n",
    "\n",
    "SingleLayerPotential = Helmholtz_SLP_2D(wavenumber)\n",
    "BIO = BoundaryIntegralOperator(SingleLayerPotential, obstacle, param)\n",
    "\n",
    "# We use a basis of splines of linear degree in the parameter domain\n",
    "basis = complex(BSplineTranslatesBasis(N, splinedegree, leftendpoint(paramdomain), rightendpoint(paramdomain)))\n",
    "basis_obstacle = BasisFunctions.ParamDict(basis, param, obstacle)\n",
    "\n",
    "# Collocation points in the parameter domain\n",
    "coll_points = PeriodicEquispacedGrid(M, paramdomain)\n",
    "coll_points_obstacle = mapped_grid(coll_points, param)\n",
    "\n",
    "# Sampling operators for collocation and Galerkin\n",
    "sampling_col = GridSampling(coll_points, Complex{T})\n",
    "sampling_col_obstacle = GridSampling(coll_points_obstacle, Complex{T})\n",
    "sampling_gal = ProjectionSampling(basis, measure(BIO))\n",
    "\n",
    "# The boundary conditions (as functions)\n",
    "bcond = make_parboundary_condition_planewave(param, wavenumber, direction, amplitude)\n",
    "bcond_field = make_boundary_condition_planewave(wavenumber, direction, amplitude)\n",
    "\n",
    "# And finally the BEM matrices (unassembled)\n",
    "BEM_col = (sampling_col * BIO) * basis\n",
    "BEM_gal = (sampling_gal * BIO) * basis"
   ]
  },
  {
   "cell_type": "markdown",
   "metadata": {},
   "source": [
    "## BEM matrix assembly and solve"
   ]
  },
  {
   "cell_type": "code",
   "execution_count": null,
   "metadata": {},
   "outputs": [],
   "source": [
    "# Two different quadrature strategies for the assembly of the BEM matrix\n",
    "quad_qbf = QuadQBF{T}(splinedegree; oversamplingfactor=2);\n",
    "quad_gk = QuadAdaptive{T}()"
   ]
  },
  {
   "cell_type": "code",
   "execution_count": null,
   "metadata": {},
   "outputs": [],
   "source": [
    "@time compute_BEM_entry(BEM_col, 2, 2, quad_qbf)"
   ]
  },
  {
   "cell_type": "code",
   "execution_count": null,
   "metadata": {},
   "outputs": [],
   "source": [
    "@time assemble!(BEM_col, quad_qbf);"
   ]
  },
  {
   "cell_type": "code",
   "execution_count": null,
   "metadata": {},
   "outputs": [],
   "source": [
    "@time assemble!(BEM_gal, quad_qbf);"
   ]
  },
  {
   "cell_type": "code",
   "execution_count": null,
   "metadata": {},
   "outputs": [],
   "source": [
    "A_col = copy(matrix(BEM_col))\n",
    "b_col = sampling_col * bcond\n",
    "coef_col = A_col \\ b_col\n",
    "density_col = Expansion(basis, coef_col)"
   ]
  },
  {
   "cell_type": "code",
   "execution_count": null,
   "metadata": {},
   "outputs": [],
   "source": [
    "A_gal = copy(matrix(BEM_gal))\n",
    "b_gal = sampling_gal * bcond\n",
    "coef_gal = A_gal \\ b_gal\n",
    "density_gal = Expansion(basis, coef_gal)"
   ]
  },
  {
   "cell_type": "markdown",
   "metadata": {},
   "source": [
    "## Evaluate the solution at a field"
   ]
  },
  {
   "cell_type": "markdown",
   "metadata": {},
   "source": [
    "Since the boundary condition is a plane wave, and because we've used an integral equation of the first kind involving the singly layer potential, we know that the solution to the interior problem is precisely the plane wave."
   ]
  },
  {
   "cell_type": "code",
   "execution_count": null,
   "metadata": {},
   "outputs": [],
   "source": [
    "point = SVector(0.05, -0.2)\n",
    "z_exact = bcond_field(point...)"
   ]
  },
  {
   "cell_type": "code",
   "execution_count": null,
   "metadata": {},
   "outputs": [],
   "source": [
    "z_col = eval_field(BEM_col, density_col, point)\n",
    "abs(z_col-z_exact) / abs(z_exact)"
   ]
  },
  {
   "cell_type": "code",
   "execution_count": null,
   "metadata": {},
   "outputs": [],
   "source": [
    "z_gal = eval_field(BEM_gal, density_gal, point)\n",
    "abs(z_gal - z_exact) / abs(z_exact)"
   ]
  },
  {
   "cell_type": "code",
   "execution_count": null,
   "metadata": {},
   "outputs": [],
   "source": []
  }
 ],
 "metadata": {
  "@webio": {
   "lastCommId": null,
   "lastKernelId": null
  },
  "kernelspec": {
   "display_name": "Julia 1.3.1",
   "language": "julia",
   "name": "julia-1.3"
  },
  "language_info": {
   "file_extension": ".jl",
   "mimetype": "application/julia",
   "name": "julia",
   "version": "1.3.1"
  }
 },
 "nbformat": 4,
 "nbformat_minor": 2
}
