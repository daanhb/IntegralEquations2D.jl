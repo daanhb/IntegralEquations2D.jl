{
 "cells": [
  {
   "cell_type": "code",
   "execution_count": 1,
   "metadata": {},
   "outputs": [
    {
     "name": "stdout",
     "output_type": "stream",
     "text": [
      "\u001b[32m\u001b[1mActivating\u001b[22m\u001b[39m environment at `~/werk/code/julia/packages/testie/Project.toml`\n"
     ]
    }
   ],
   "source": [
    "using Pkg\n",
    "Pkg.activate(\"packages/testie\")"
   ]
  },
  {
   "cell_type": "code",
   "execution_count": 12,
   "metadata": {},
   "outputs": [
    {
     "data": {
      "text/plain": [
       "SimpleIntegralEquations"
      ]
     },
     "execution_count": 12,
     "metadata": {},
     "output_type": "execute_result"
    }
   ],
   "source": [
    "using SpecialFunctions, StaticArrays, BasisFunctions, FrameFun, IntervalSets, DomainSets, LinearAlgebra, DomainIntegrals\n",
    "using Plots\n",
    "using CompactTranslatesDict, CardinalBSplines\n",
    "CD = CompactTranslatesDict\n",
    "using SimpleIntegralEquations\n",
    "IE = SimpleIntegralEquations"
   ]
  },
  {
   "cell_type": "markdown",
   "metadata": {},
   "source": [
    "## Parameters of the problem"
   ]
  },
  {
   "cell_type": "code",
   "execution_count": 28,
   "metadata": {},
   "outputs": [
    {
     "data": {
      "text/plain": [
       "1"
      ]
     },
     "execution_count": 28,
     "metadata": {},
     "output_type": "execute_result"
    }
   ],
   "source": [
    "wavenumber = 5.0\n",
    "\n",
    "# Number of degrees of freedom in the basis\n",
    "N = 128\n",
    "# Number of collocation points (for collocation discretization)\n",
    "M = N\n",
    "\n",
    "# The degree of the B-splines we use to represent the solution\n",
    "splinedegree = 1"
   ]
  },
  {
   "cell_type": "code",
   "execution_count": 29,
   "metadata": {},
   "outputs": [
    {
     "data": {
      "text/plain": [
       "SimpleIntegralEquations.Kite{Float64}(2)"
      ]
     },
     "execution_count": 29,
     "metadata": {},
     "output_type": "execute_result"
    }
   ],
   "source": [
    "# We choose a kite-shaped domain but there are other options\n",
    "obstacle = IE.Kite(2)\n",
    "# obstacle = UnitCircle()\n",
    "# obstacle = IE.Ellipse(0.0, 0.0, 0.3, 0.5)"
   ]
  },
  {
   "cell_type": "markdown",
   "metadata": {},
   "source": [
    "If the incoming wave is a plane wave, we can choose its direction and amplitude"
   ]
  },
  {
   "cell_type": "code",
   "execution_count": 30,
   "metadata": {},
   "outputs": [
    {
     "data": {
      "text/plain": [
       "1.0"
      ]
     },
     "execution_count": 30,
     "metadata": {},
     "output_type": "execute_result"
    }
   ],
   "source": [
    "# We choose an incoming wave\n",
    "direction = SVector(1.0, 0.0)\n",
    "amplitude = 1.0"
   ]
  },
  {
   "cell_type": "markdown",
   "metadata": {},
   "source": [
    "## Definition of the BEM matrices"
   ]
  },
  {
   "cell_type": "code",
   "execution_count": 45,
   "metadata": {},
   "outputs": [
    {
     "data": {
      "text/plain": [
       "SimpleIntegralEquations.DenseBEMOperator\n",
       "\n"
      ]
     },
     "execution_count": 45,
     "metadata": {},
     "output_type": "execute_result"
    }
   ],
   "source": [
    "param = parameterization(obstacle)\n",
    "paramdomain = domain(param)\n",
    "\n",
    "SingleLayerPotential = IE.Helmholtz_SLP_2D(wavenumber)\n",
    "BIO = IE.BoundaryIntegralOperator(SingleLayerPotential, obstacle, param, paramdomain)\n",
    "\n",
    "# We use a basis of splines of linear degree in the parameter domain\n",
    "basis = CD.BSplineTranslatesBasis(N, splinedegree, leftendpoint(paramdomain), rightendpoint(paramdomain))\n",
    "basis_obstacle = BasisFunctions.ParamDict(basis, param, obstacle)\n",
    "\n",
    "# Collocation points in the parameter domain\n",
    "coll_points = PeriodicEquispacedGrid(M, paramdomain)\n",
    "coll_points_obstacle = mapped_grid(coll_points, param)\n",
    "\n",
    "# Sampling operators for collocation and Galerkin\n",
    "sampling_col = GridSampling(coll_points, Complex{Float64})\n",
    "sampling_col_obstacle = GridSampling(coll_points_obstacle, Complex{Float64})\n",
    "sampling_gal = ProjectionSampling(complex(basis), IE.measure(BIO))\n",
    "\n",
    "# The boundary conditions (as functions)\n",
    "bcond = IE.make_parboundary_condition_planewave(param, wavenumber, direction, amplitude)\n",
    "bcond_field = IE.make_boundary_condition_planewave(wavenumber, direction, amplitude)\n",
    "\n",
    "# And finally the BEM matrices (unassembled)\n",
    "BEM_col = (sampling_col * BIO) * basis\n",
    "BEM_gal = (sampling_gal * BIO) * basis"
   ]
  },
  {
   "cell_type": "markdown",
   "metadata": {},
   "source": [
    "## BEM matrix assembly and solve"
   ]
  },
  {
   "cell_type": "code",
   "execution_count": 46,
   "metadata": {},
   "outputs": [
    {
     "data": {
      "text/plain": [
       "DomainIntegrals.QuadAdaptive()"
      ]
     },
     "execution_count": 46,
     "metadata": {},
     "output_type": "execute_result"
    }
   ],
   "source": [
    "# Two different quadrature strategies for the assembly of the BEM matrix\n",
    "quad_qbf = IE.QuadQBF();\n",
    "quad_gk = IE.QuadAdaptive()"
   ]
  },
  {
   "cell_type": "code",
   "execution_count": 47,
   "metadata": {},
   "outputs": [
    {
     "name": "stdout",
     "output_type": "stream",
     "text": [
      "  0.144129 seconds (363.68 k allocations: 14.498 MiB, 8.06% gc time)\n"
     ]
    }
   ],
   "source": [
    "@time IE.assemble!(BEM_col, quad_qbf);"
   ]
  },
  {
   "cell_type": "code",
   "execution_count": 48,
   "metadata": {},
   "outputs": [
    {
     "name": "stdout",
     "output_type": "stream",
     "text": [
      " 22.111632 seconds (110.40 M allocations: 4.540 GiB, 3.06% gc time)\n"
     ]
    }
   ],
   "source": [
    "@time IE.assemble!(BEM_gal, quad_qbf);"
   ]
  },
  {
   "cell_type": "code",
   "execution_count": 50,
   "metadata": {},
   "outputs": [
    {
     "data": {
      "text/plain": [
       "A 1-dimensional Expansion with 128 degrees of freedom.\n",
       "Basis: Periodic equispaced translates of a periodic kernel function\n"
      ]
     },
     "execution_count": 50,
     "metadata": {},
     "output_type": "execute_result"
    }
   ],
   "source": [
    "A_col = copy(matrix(BEM_col))\n",
    "b_col = sampling_col * bcond\n",
    "coef_col = A_col \\ b_col\n",
    "density_col = Expansion(basis, coef_col)"
   ]
  },
  {
   "cell_type": "code",
   "execution_count": 51,
   "metadata": {},
   "outputs": [
    {
     "data": {
      "text/plain": [
       "A 1-dimensional Expansion with 128 degrees of freedom.\n",
       "Basis: Periodic equispaced translates of a periodic kernel function\n"
      ]
     },
     "execution_count": 51,
     "metadata": {},
     "output_type": "execute_result"
    }
   ],
   "source": [
    "A_gal = copy(matrix(BEM_gal))\n",
    "b_gal = sampling_gal * bcond\n",
    "coef_gal = A_gal \\ b_gal\n",
    "density_gal = Expansion(basis, coef_gal)"
   ]
  },
  {
   "cell_type": "code",
   "execution_count": null,
   "metadata": {},
   "outputs": [],
   "source": []
  },
  {
   "cell_type": "markdown",
   "metadata": {},
   "source": [
    "## Evaluate the solution at a field"
   ]
  },
  {
   "cell_type": "markdown",
   "metadata": {},
   "source": [
    "Since the boundary condition is a plane wave, and because we've used an integral equation of the first kind involving the singly layer potential, we know that the solution to the interior problem is precisely the plane wave."
   ]
  },
  {
   "cell_type": "code",
   "execution_count": 56,
   "metadata": {},
   "outputs": [
    {
     "data": {
      "text/plain": [
       "0.9689124217106447 + 0.24740395925452294im"
      ]
     },
     "execution_count": 56,
     "metadata": {},
     "output_type": "execute_result"
    }
   ],
   "source": [
    "point = SVector(0.05, -0.2)\n",
    "z_exact = bcond_field(point...)"
   ]
  },
  {
   "cell_type": "code",
   "execution_count": 59,
   "metadata": {},
   "outputs": [
    {
     "data": {
      "text/plain": [
       "7.815841501739356e-5"
      ]
     },
     "execution_count": 59,
     "metadata": {},
     "output_type": "execute_result"
    }
   ],
   "source": [
    "z_col = IE.eval_field(BEM_col, density_col, point)\n",
    "abs(z_col-z_exact) / abs(z_exact)"
   ]
  },
  {
   "cell_type": "code",
   "execution_count": null,
   "metadata": {},
   "outputs": [],
   "source": [
    "z_gal = IE.eval_field(BEM_col, density_col, point)\n",
    "abs(z_gal - z_exact) / "
   ]
  },
  {
   "cell_type": "code",
   "execution_count": null,
   "metadata": {},
   "outputs": [],
   "source": []
  },
  {
   "cell_type": "code",
   "execution_count": null,
   "metadata": {},
   "outputs": [],
   "source": []
  }
 ],
 "metadata": {
  "@webio": {
   "lastCommId": null,
   "lastKernelId": null
  },
  "kernelspec": {
   "display_name": "Julia 1.3.0",
   "language": "julia",
   "name": "julia-1.3"
  },
  "language_info": {
   "file_extension": ".jl",
   "mimetype": "application/julia",
   "name": "julia",
   "version": "1.3.0"
  }
 },
 "nbformat": 4,
 "nbformat_minor": 2
}
